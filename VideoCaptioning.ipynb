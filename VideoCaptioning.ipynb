{
  "nbformat": 4,
  "nbformat_minor": 0,
  "metadata": {
    "colab": {
      "provenance": [],
      "authorship_tag": "ABX9TyMvkpLyThWEOGb5D4CZWh5z",
      "include_colab_link": true
    },
    "kernelspec": {
      "name": "python3",
      "display_name": "Python 3"
    },
    "language_info": {
      "name": "python"
    }
  },
  "cells": [
    {
      "cell_type": "markdown",
      "metadata": {
        "id": "view-in-github",
        "colab_type": "text"
      },
      "source": [
        "<a href=\"https://colab.research.google.com/github/NikolayWTF/it_happened/blob/main/VideoCaptioning.ipynb\" target=\"_parent\"><img src=\"https://colab.research.google.com/assets/colab-badge.svg\" alt=\"Open In Colab\"/></a>"
      ]
    },
    {
      "cell_type": "code",
      "source": [
        "!python --version\n",
        "#Ожидаемый вывод 3.8.10\n",
        "#Если версия 3.9+ тогда будут проблемы с установкой requirements.txt\n",
        "#В этой статье описано, как изменить версию https://www.datasciencelearner.com/change-python-version-in-google-colab-steps/"
      ],
      "metadata": {
        "colab": {
          "base_uri": "https://localhost:8080/"
        },
        "id": "tJ6Bl4MFqYdD",
        "outputId": "c8357355-8f07-48ab-f34d-8fc02be4ba1d"
      },
      "execution_count": 9,
      "outputs": [
        {
          "output_type": "stream",
          "name": "stdout",
          "text": [
            "Python 3.8.10\n"
          ]
        }
      ]
    },
    {
      "cell_type": "code",
      "source": [
        "!git clone https://github.com/Shreyz-max/Video-Captioning.git\n",
        "%cd Video-Captioning"
      ],
      "metadata": {
        "colab": {
          "base_uri": "https://localhost:8080/"
        },
        "id": "uTGzr6DVqjcn",
        "outputId": "a24820f3-d566-46de-df8d-4f907960bf58"
      },
      "execution_count": 13,
      "outputs": [
        {
          "output_type": "stream",
          "name": "stdout",
          "text": [
            "fatal: destination path 'Video-Captioning' already exists and is not an empty directory.\n",
            "/content/Video-Captioning\n"
          ]
        }
      ]
    },
    {
      "cell_type": "code",
      "source": [
        "!pip install -r requirements.txt"
      ],
      "metadata": {
        "colab": {
          "base_uri": "https://localhost:8080/"
        },
        "id": "jE8ImZY3qw8P",
        "outputId": "332c51ee-d526-4964-be33-a7f9782ba284"
      },
      "execution_count": 15,
      "outputs": [
        {
          "output_type": "stream",
          "name": "stdout",
          "text": [
            "Looking in indexes: https://pypi.org/simple, https://us-python.pkg.dev/colab-wheels/public/simple/\n",
            "Requirement already satisfied: absl-py==0.11.0 in /usr/local/lib/python3.8/dist-packages (from -r requirements.txt (line 1)) (0.11.0)\n",
            "Requirement already satisfied: astunparse==1.6.3 in /usr/local/lib/python3.8/dist-packages (from -r requirements.txt (line 2)) (1.6.3)\n",
            "Requirement already satisfied: cachetools==4.2.1 in /usr/local/lib/python3.8/dist-packages (from -r requirements.txt (line 3)) (4.2.1)\n",
            "Requirement already satisfied: certifi==2020.12.5 in /usr/local/lib/python3.8/dist-packages (from -r requirements.txt (line 4)) (2020.12.5)\n",
            "Requirement already satisfied: chardet==4.0.0 in /usr/local/lib/python3.8/dist-packages (from -r requirements.txt (line 5)) (4.0.0)\n",
            "Requirement already satisfied: dill==0.3.3 in /usr/local/lib/python3.8/dist-packages (from -r requirements.txt (line 6)) (0.3.3)\n",
            "Requirement already satisfied: flatbuffers==1.12 in /usr/local/lib/python3.8/dist-packages (from -r requirements.txt (line 7)) (1.12)\n",
            "Requirement already satisfied: future==0.18.2 in /usr/local/lib/python3.8/dist-packages (from -r requirements.txt (line 8)) (0.18.2)\n",
            "Requirement already satisfied: gast==0.3.3 in /usr/local/lib/python3.8/dist-packages (from -r requirements.txt (line 9)) (0.3.3)\n",
            "Requirement already satisfied: google-auth==1.27.0 in /usr/local/lib/python3.8/dist-packages (from -r requirements.txt (line 10)) (1.27.0)\n",
            "Requirement already satisfied: google-auth-oauthlib==0.4.2 in /usr/local/lib/python3.8/dist-packages (from -r requirements.txt (line 11)) (0.4.2)\n",
            "Requirement already satisfied: google-pasta==0.2.0 in /usr/local/lib/python3.8/dist-packages (from -r requirements.txt (line 12)) (0.2.0)\n",
            "Requirement already satisfied: grpcio==1.32.0 in /usr/local/lib/python3.8/dist-packages (from -r requirements.txt (line 13)) (1.32.0)\n",
            "Requirement already satisfied: h5py==2.10.0 in /usr/local/lib/python3.8/dist-packages (from -r requirements.txt (line 14)) (2.10.0)\n",
            "Requirement already satisfied: idna==2.10 in /usr/local/lib/python3.8/dist-packages (from -r requirements.txt (line 15)) (2.10)\n",
            "Requirement already satisfied: importlib-metadata==3.7.0 in /usr/local/lib/python3.8/dist-packages (from -r requirements.txt (line 16)) (3.7.0)\n",
            "Requirement already satisfied: joblib==1.0.1 in /usr/local/lib/python3.8/dist-packages (from -r requirements.txt (line 17)) (1.0.1)\n",
            "Requirement already satisfied: Keras==2.4.3 in /usr/local/lib/python3.8/dist-packages (from -r requirements.txt (line 18)) (2.4.3)\n",
            "Requirement already satisfied: Keras-Preprocessing==1.1.2 in /usr/local/lib/python3.8/dist-packages (from -r requirements.txt (line 19)) (1.1.2)\n",
            "Requirement already satisfied: Markdown==3.3.4 in /usr/local/lib/python3.8/dist-packages (from -r requirements.txt (line 20)) (3.3.4)\n",
            "Requirement already satisfied: numpy==1.19.5 in /usr/local/lib/python3.8/dist-packages (from -r requirements.txt (line 21)) (1.19.5)\n",
            "Requirement already satisfied: oauthlib==3.1.0 in /usr/local/lib/python3.8/dist-packages (from -r requirements.txt (line 22)) (3.1.0)\n",
            "Requirement already satisfied: opencv-python==4.5.1.48 in /usr/local/lib/python3.8/dist-packages (from -r requirements.txt (line 23)) (4.5.1.48)\n",
            "Requirement already satisfied: opt-einsum==3.3.0 in /usr/local/lib/python3.8/dist-packages (from -r requirements.txt (line 24)) (3.3.0)\n",
            "Requirement already satisfied: pip==21.0.1 in /usr/local/lib/python3.8/dist-packages (from -r requirements.txt (line 25)) (21.0.1)\n",
            "Requirement already satisfied: protobuf==3.15.3 in /usr/local/lib/python3.8/dist-packages (from -r requirements.txt (line 26)) (3.15.3)\n",
            "Requirement already satisfied: pyasn1==0.4.8 in /usr/local/lib/python3.8/dist-packages (from -r requirements.txt (line 27)) (0.4.8)\n",
            "Requirement already satisfied: pyasn1-modules==0.2.8 in /usr/local/lib/python3.8/dist-packages (from -r requirements.txt (line 28)) (0.2.8)\n",
            "Requirement already satisfied: PyYAML==5.4.1 in /usr/local/lib/python3.8/dist-packages (from -r requirements.txt (line 29)) (5.4.1)\n",
            "Requirement already satisfied: requests==2.25.1 in /usr/local/lib/python3.8/dist-packages (from -r requirements.txt (line 30)) (2.25.1)\n",
            "Requirement already satisfied: requests-oauthlib==1.3.0 in /usr/local/lib/python3.8/dist-packages (from -r requirements.txt (line 31)) (1.3.0)\n",
            "Requirement already satisfied: rsa==4.7.2 in /usr/local/lib/python3.8/dist-packages (from -r requirements.txt (line 32)) (4.7.2)\n",
            "Requirement already satisfied: scikit-learn==0.23.2 in /usr/local/lib/python3.8/dist-packages (from -r requirements.txt (line 33)) (0.23.2)\n",
            "Requirement already satisfied: scipy==1.6.1 in /usr/local/lib/python3.8/dist-packages (from -r requirements.txt (line 34)) (1.6.1)\n",
            "Requirement already satisfied: setuptools==52.0.0 in /usr/local/lib/python3.8/dist-packages (from -r requirements.txt (line 35)) (52.0.0)\n",
            "Requirement already satisfied: six==1.15.0 in /usr/local/lib/python3.8/dist-packages (from -r requirements.txt (line 36)) (1.15.0)\n",
            "Requirement already satisfied: tensorboard==2.4.1 in /usr/local/lib/python3.8/dist-packages (from -r requirements.txt (line 37)) (2.4.1)\n",
            "Requirement already satisfied: tensorboard-plugin-wit==1.8.0 in /usr/local/lib/python3.8/dist-packages (from -r requirements.txt (line 38)) (1.8.0)\n",
            "Requirement already satisfied: tensorflow==2.4.1 in /usr/local/lib/python3.8/dist-packages (from -r requirements.txt (line 39)) (2.4.1)\n",
            "Requirement already satisfied: tensorflow-estimator==2.4.0 in /usr/local/lib/python3.8/dist-packages (from -r requirements.txt (line 40)) (2.4.0)\n",
            "Requirement already satisfied: termcolor==1.1.0 in /usr/local/lib/python3.8/dist-packages (from -r requirements.txt (line 41)) (1.1.0)\n",
            "Requirement already satisfied: threadpoolctl==2.1.0 in /usr/local/lib/python3.8/dist-packages (from -r requirements.txt (line 42)) (2.1.0)\n",
            "Requirement already satisfied: tqdm==4.56.0 in /usr/local/lib/python3.8/dist-packages (from -r requirements.txt (line 43)) (4.56.0)\n",
            "Requirement already satisfied: typing-extensions==3.7.4.3 in /usr/local/lib/python3.8/dist-packages (from -r requirements.txt (line 44)) (3.7.4.3)\n",
            "Requirement already satisfied: urllib3==1.26.3 in /usr/local/lib/python3.8/dist-packages (from -r requirements.txt (line 45)) (1.26.3)\n",
            "Requirement already satisfied: Werkzeug==1.0.1 in /usr/local/lib/python3.8/dist-packages (from -r requirements.txt (line 46)) (1.0.1)\n",
            "Requirement already satisfied: wheel==0.36.2 in /usr/local/lib/python3.8/dist-packages (from -r requirements.txt (line 47)) (0.36.2)\n",
            "Requirement already satisfied: wrapt==1.12.1 in /usr/local/lib/python3.8/dist-packages (from -r requirements.txt (line 48)) (1.12.1)\n",
            "Requirement already satisfied: zipp==3.4.0 in /usr/local/lib/python3.8/dist-packages (from -r requirements.txt (line 49)) (3.4.0)\n"
          ]
        }
      ]
    },
    {
      "cell_type": "code",
      "source": [
        "!python predict_realtime.py\n",
        "#Создайте папку video и добавьте туда видео для обработки"
      ],
      "metadata": {
        "colab": {
          "base_uri": "https://localhost:8080/"
        },
        "id": "NcWBL5FDq7y-",
        "outputId": "f471726c-990c-46cf-f94a-235acfbf143e"
      },
      "execution_count": 26,
      "outputs": [
        {
          "output_type": "stream",
          "name": "stdout",
          "text": [
            "2023-03-15 19:43:53.715325: I tensorflow/stream_executor/platform/default/dso_loader.cc:49] Successfully opened dynamic library libcudart.so.11.0\n",
            "2023-03-15 19:43:55.434993: I tensorflow/compiler/jit/xla_cpu_device.cc:41] Not creating XLA devices, tf_xla_enable_xla_devices not set\n",
            "2023-03-15 19:43:55.436686: I tensorflow/stream_executor/platform/default/dso_loader.cc:49] Successfully opened dynamic library libcuda.so.1\n",
            "2023-03-15 19:43:55.450882: E tensorflow/stream_executor/cuda/cuda_driver.cc:328] failed call to cuInit: CUDA_ERROR_NO_DEVICE: no CUDA-capable device is detected\n",
            "2023-03-15 19:43:55.450944: I tensorflow/stream_executor/cuda/cuda_diagnostics.cc:156] kernel driver does not appear to be running on this host (18655658b170): /proc/driver/nvidia/version does not exist\n",
            "2023-03-15 19:43:55.451384: I tensorflow/core/platform/cpu_feature_guard.cc:142] This TensorFlow binary is optimized with oneAPI Deep Neural Network Library (oneDNN) to use the following CPU instructions in performance-critical operations:  AVX2 FMA\n",
            "To enable them in other operations, rebuild TensorFlow with the appropriate compiler flags.\n",
            "2023-03-15 19:43:55.451590: I tensorflow/compiler/jit/xla_gpu_device.cc:99] Not creating XLA devices, tf_xla_enable_xla_devices not set\n",
            "WARNING:tensorflow:No training configuration found in the save file, so the model was *not* compiled. Compile it manually.\n",
            "balet\n",
            "Processing video balet.avi\n",
            "2023-03-15 19:44:31.238099: I tensorflow/compiler/mlir/mlir_graph_optimization_pass.cc:116] None of the MLIR optimization passes are enabled (registered 2)\n",
            "2023-03-15 19:44:31.238679: I tensorflow/core/platform/profile_utils/cpu_utils.cc:112] CPU Frequency: 2199995000 Hz\n",
            "2023-03-15 19:44:31.481944: W tensorflow/core/framework/cpu_allocator_impl.cc:80] Allocation of 1027604480 exceeds 10% of free system memory.\n",
            "2023-03-15 19:44:32.876236: W tensorflow/core/framework/cpu_allocator_impl.cc:80] Allocation of 1027604480 exceeds 10% of free system memory.\n",
            "a woman is performing on a \n"
          ]
        }
      ]
    }
  ]
}